{
 "cells": [
  {
   "cell_type": "markdown",
   "metadata": {},
   "source": [
    "# Intro\n",
    "\n",
    "This notebook contains an initial analysis for a classification problem.\n",
    "At hand I have historical data of transaction for certain rental contracts.\n",
    "I will study how could we calssify good from bad tenant looking at their past history.\n",
    "\n",
    "The possible approaces include unsupervised learning as clustering and supervise learning for predictions and testing. I used valrious Deep Neural Networds architectures to train the model. \n",
    "\n",
    "This is a prototype for a possible classification application in the real-estate market."
   ]
  },
  {
   "cell_type": "code",
   "execution_count": 14,
   "metadata": {},
   "outputs": [],
   "source": [
    "import matplotlib.pyplot as plt\n",
    "from collections import Counter\n",
    "from sklearn import preprocessing\n",
    "import pandas as pd\n",
    "#import modin.pandas as pd\n",
    "import datetime\n",
    "import calendar\n",
    "import time\n",
    "from operator import attrgetter\n",
    "\n",
    "\n",
    "# These functions will be very handy for clean and fast manipulation of the database\n",
    "\n",
    "# adds a month to a datetime type\n",
    "def add_months(sourcedate, months):\n",
    "    '''adds a month to a datetime type'''\n",
    "    month = sourcedate.month - 1 + months\n",
    "    year = sourcedate.year + month // 12\n",
    "    month = month % 12 + 1\n",
    "    day = min(sourcedate.day, calendar.monthrange(year,month)[1])\n",
    "    return datetime.date(year, month, day)\n",
    "\n",
    "# gets contracts associated with a tenant using tenant_id\n",
    "def get_contracts(tenant):\n",
    "    '''\n",
    "    Gets contracts associated with a tenant using tenant_id\n",
    "    A list of tenants may also be passed.\n",
    "    '''\n",
    "    if type(tenant)==str:\n",
    "        tenant=[tenant]\n",
    "    df=contracts[contracts['tenant_id'].isin(tenant)].reset_index(drop=True)\n",
    "    return df\n",
    "\n",
    "# gets hisory of transitions for a speacific contract using contract_id\n",
    "def get_history(contract):\n",
    "    '''\n",
    "    Gets hisory of transitions for a speacific contract using contract_id.\n",
    "    A list of contracts may also be passed.\n",
    "    '''\n",
    "    if not type(contract)==list:\n",
    "        contract=[contract]\n",
    "    df=transactions[transactions['contract_id'].isin(contract)].reset_index(drop=True)\n",
    "    return df\n",
    "\n",
    "# gets tenant associated with a contract using contract_id\n",
    "def get_tenant(contract):\n",
    "    '''\n",
    "    Gets tenant associated with a contract using contract_id\n",
    "    '''\n",
    "    df=tenants[tenants['c_ids'].apply(lambda x: contract in x)]\n",
    "    return df\n",
    " \n",
    "# gets contract info from contract.csv dataframe using contract_id\n",
    "def get_cinfo(contract):\n",
    "    '''\n",
    "    Gets contract info from contract.csv dataframe using contract_id\n",
    "    A list of contracts may also be passed.\n",
    "    '''\n",
    "    if not type(contract)==list:\n",
    "        contract=[contract]\n",
    "    df=contracts[contracts['contract_id'].isin(contract)].reset_index()\n",
    "    return df"
   ]
  },
  {
   "cell_type": "markdown",
   "metadata": {},
   "source": [
    "# Looking at the Data\n",
    "\n",
    "Here I start the analysis by gathering the main infos about the dataset. I answer each of the asked question with a small cell of code that provides the answer. The cells do not need to be re-run as the result will be printed.\n",
    "\n",
    "Here I print out the size of the dataframes, both contracts and transactions. Transaction dates span from 2014-12-02 to 2017-12-31. Contracts are unique. There is both some transactions without a corresponding contract, and some contracts without a corresponding transaction. These are only 53 for each of the mentioned cases. We simply drop these entries for the later analysis."
   ]
  },
  {
   "cell_type": "code",
   "execution_count": 15,
   "metadata": {},
   "outputs": [
    {
     "name": "stdout",
     "output_type": "stream",
     "text": [
      "tot_num_contracts: 11218\n",
      "tot_num_transaction: 270761\n",
      "Earliest Date recorded: 2014-12-02 00:00:00\n",
      "Latest Date recorded: 2017-12-31 00:00:00\n",
      "missing_in_transactions: 53\n",
      "missing_in_contracts: 53\n",
      "tot_num_contracts after removing missing entries: 11165\n"
     ]
    }
   ],
   "source": [
    "# Load Data\n",
    "# Here the basic info about dataset size, missing entries and date range\n",
    "# I also change the time of dates to datetime for manipulation ease\n",
    "\n",
    "\n",
    "contracts=pd.read_csv('contracts.csv')\n",
    "contracts['contract_start']=pd.to_datetime(contracts['contract_start'])\n",
    "contracts['contract_end']=pd.to_datetime(contracts['contract_end'])\n",
    "print('tot_num_contracts:',len(contracts['contract_id'].unique()))\n",
    "\n",
    "transactions=pd.read_csv('transactions.csv')\n",
    "transactions['Payment_date']=pd.to_datetime(transactions['Payment_date'])\n",
    "print('tot_num_transaction:',len(transactions))\n",
    "\n",
    "# Last and firt date of transaction in the database\n",
    "first_date=sorted(transactions['Payment_date'])[0]\n",
    "print('Earliest Date recorded:',first_date)\n",
    "last_date=sorted(transactions['Payment_date'])[-1]\n",
    "print('Latest Date recorded:',last_date)\n",
    "\n",
    "# Contracts without transactions/ Transactions without Contract info\n",
    "all_con_t=set(transactions['contract_id'])\n",
    "all_con_c=set(contracts['contract_id'])\n",
    "missing_in_t=all_con_c-all_con_t\n",
    "print('missing_in_transactions:',len(missing_in_t))\n",
    "missing_in_c=all_con_t-all_con_c\n",
    "print('missing_in_contracts:',len(missing_in_c))\n",
    "\n",
    "# Drop contracts without transaction history\n",
    "contracts=contracts[~(contracts['contract_id'].isin(missing_in_t))].reset_index(drop=True)\n",
    "print('tot_num_contracts after removing missing entries:',len(contracts['contract_id'].unique()))"
   ]
  },
  {
   "cell_type": "markdown",
   "metadata": {},
   "source": [
    "# Questions\n",
    "\n",
    "1. How many unique contracts are there in total?\n",
    "2. How many unique contracts are there with a link to transaction information?\n",
    "3. How many unique tenants?\n",
    "4. How many tenants with multiple contracts?\n",
    "5. How many contracts such tenants have?\n",
    "6. How many tenants have a total contract history with less than 3, 6, and 12 months of history,\n",
    "and with at least 18 and 24 months of history?\n",
    "7. How many tenants have used only one payment method? How many more than one?\n",
    "8. What is the relationship between deposit and rent amount agreed in the contract?\n",
    "9. Can you find an example of the transactional history for an evicted tenant, for each possible\n",
    "cause of eviction, and explain the cause of eviction?\n",
    "10. How many evictions, pertype, are there?"
   ]
  },
  {
   "cell_type": "markdown",
   "metadata": {},
   "source": [
    "# Initial analysis"
   ]
  },
  {
   "cell_type": "markdown",
   "metadata": {},
   "source": [
    "As seen from the initial data there is:\n",
    "- 11218 contracts in 'contracts.csv'\n",
    "- 53 of these do not have transactions history, so we have 11165 contracts with history\n",
    "- 53 contracts have history but miss general information"
   ]
  },
  {
   "cell_type": "markdown",
   "metadata": {},
   "source": [
    "\n",
    "We consider a unique tenant as one with a unique combination of name, surname and dob.\n",
    "To be sure that there is no two tenants with same name, surname and dob we can look at the contrats history and make sure there are no overlaps, as each tenant can have only one contract at the time.\n"
   ]
  },
  {
   "cell_type": "code",
   "execution_count": 16,
   "metadata": {},
   "outputs": [
    {
     "name": "stdout",
     "output_type": "stream",
     "text": [
      "unique_tenants: 9951\n"
     ]
    }
   ],
   "source": [
    "unique_tenants=contracts[['name','surname','dob']].drop_duplicates()\n",
    "unique_tenants=list(unique_tenants['name']+unique_tenants['surname']+unique_tenants['dob'])\n",
    "print('unique_tenants:',len(unique_tenants))"
   ]
  },
  {
   "cell_type": "markdown",
   "metadata": {},
   "source": [
    "\n",
    "I add a tenant_id as the string sum of name, surname and dob and quickly check what is the amount of contracts for each tenant. The majority of the tenants have 1 or 2 contracts, only 70 tenants have more then 2. The maximum amount of contract per tenant is 4."
   ]
  },
  {
   "cell_type": "code",
   "execution_count": 17,
   "metadata": {},
   "outputs": [
    {
     "name": "stdout",
     "output_type": "stream",
     "text": [
      "tenants with 1 contracts: 8809\n",
      "tenants with 2 contracts: 1072\n",
      "tenants with 3 contracts: 68\n",
      "tenants with 4 contracts: 2\n",
      "tenants with >4 contracts: 0\n"
     ]
    }
   ],
   "source": [
    "# Add tenand_id both in contracts and transactions\n",
    "contracts['tenant_id']=contracts['name']+contracts['surname']+contracts['dob']\n",
    "map_t=dict()\n",
    "for tenant in unique_tenants:\n",
    "    t_contracts=list(get_contracts(tenant)['contract_id'])\n",
    "    for t in t_contracts:\n",
    "        map_t[t]=tenant\n",
    "transactions['tenant_id']=transactions['contract_id'].map(map_t)\n",
    "\n",
    "num_con_df=contracts.groupby('tenant_id').count()[['contract_id']].rename(columns={'contract_id':'num_contracts'})\n",
    "for i in range(1,5):\n",
    "    print('tenants with {} contracts:'.format(i),len(num_con_df[num_con_df['num_contracts']==i]))\n",
    "print('tenants with >4 contracts:',len(num_con_df[num_con_df['num_contracts']>4]))"
   ]
  },
  {
   "cell_type": "markdown",
   "metadata": {},
   "source": [
    "\n",
    "Most tenants have a 36/35 months of transactions history. Other tenants are quite balanced from 1 months to 34 (each case has ~150 tenants in it). For the specific questions I find:\n",
    "\n",
    "- total contracts history with < 3 months: 425\n",
    "- total contracts history with < 6 months: 965\n",
    "- total contracts history with < 12 months: 1983\n",
    "- total contracts history with >= 18 months: 7028\n",
    "- total contracts history with >= 24 months: 6093"
   ]
  },
  {
   "cell_type": "code",
   "execution_count": 39,
   "metadata": {},
   "outputs": [],
   "source": [
    "# SLOW CELL\n",
    "\n",
    "months_differences=[]\n",
    "for tenant in unique_tenants:\n",
    "    t_contracts=list(get_contracts(tenant)['contract_id'])\n",
    "\n",
    "    full_hist=pd.DataFrame()\n",
    "    for con in t_contracts:\n",
    "        full_hist=pd.concat([full_hist,get_history(con)])\n",
    "   \n",
    "    dates=sorted(set(full_hist['Payment_date'].dropna()))\n",
    "    months_differences.append(dates[-1].to_period('M')-dates[0].to_period('M'))\n",
    "months_differences=pd.Series(months_differences).apply(attrgetter('n'))"
   ]
  },
  {
   "cell_type": "code",
   "execution_count": 40,
   "metadata": {},
   "outputs": [
    {
     "data": {
      "text/html": [
       "<div>\n",
       "<style scoped>\n",
       "    .dataframe tbody tr th:only-of-type {\n",
       "        vertical-align: middle;\n",
       "    }\n",
       "\n",
       "    .dataframe tbody tr th {\n",
       "        vertical-align: top;\n",
       "    }\n",
       "\n",
       "    .dataframe thead th {\n",
       "        text-align: right;\n",
       "    }\n",
       "</style>\n",
       "<table border=\"1\" class=\"dataframe\">\n",
       "  <thead>\n",
       "    <tr style=\"text-align: right;\">\n",
       "      <th></th>\n",
       "      <th>Count</th>\n",
       "    </tr>\n",
       "  </thead>\n",
       "  <tbody>\n",
       "    <tr>\n",
       "      <th>36</th>\n",
       "      <td>4073</td>\n",
       "    </tr>\n",
       "    <tr>\n",
       "      <th>35</th>\n",
       "      <td>450</td>\n",
       "    </tr>\n",
       "    <tr>\n",
       "      <th>5</th>\n",
       "      <td>191</td>\n",
       "    </tr>\n",
       "  </tbody>\n",
       "</table>\n",
       "</div>"
      ],
      "text/plain": [
       "    Count\n",
       "36   4073\n",
       "35    450\n",
       "5     191"
      ]
     },
     "execution_count": 40,
     "metadata": {},
     "output_type": "execute_result"
    },
    {
     "data": {
      "image/png": "[encoded data removed]",
      "text/plain": [
       "<Figure size 432x288 with 1 Axes>"
      ]
     },
     "metadata": {},
     "output_type": "display_data"
    }
   ],
   "source": [
    "counter_date_span=pd.DataFrame(Counter(months_differences),index=['Count']).T.sort_values('Count',ascending=False)\n",
    "_,_,_=plt.hist(months_differences,bins=40)\n",
    "plt.xlabel('History Length')\n",
    "plt.ylabel('Count')\n",
    "counter_date_span[:3]"
   ]
  },
  {
   "cell_type": "code",
   "execution_count": 42,
   "metadata": {},
   "outputs": [
    {
     "name": "stdout",
     "output_type": "stream",
     "text": [
      "total contracts history with < 3 months: 425\n",
      "total contracts history with < 6 months: 965\n",
      "total contracts history with < 12 months: 1983\n",
      "total contracts history with >= 18 months: 7028\n",
      "total contracts history with >= 24 months: 6093\n"
     ]
    }
   ],
   "source": [
    "for i in [3,6,12]:\n",
    "    print(f'total contracts history with < {i} months:',counter_date_span\\\n",
    "          .reset_index()[counter_date_span.reset_index()['index']<i].sum()['Count'])\n",
    "for i in [18,24]:\n",
    "    print(f'total contracts history with >= {i} months:',counter_date_span\\\n",
    "          .reset_index()[counter_date_span.reset_index()['index']>=i].sum()['Count'])"
   ]
  },
  {
   "cell_type": "markdown",
   "metadata": {},
   "source": [
    "\n",
    "Most tenants use 1 payment type, some use 2, none use more than 2.\n",
    "the most used type by tenants is:\n",
    "- 'DIRECT_DEBIT': favourite by 7915  tenants\n",
    "- 'BANK_TRANSFER': favourite by 1512 tenants\n",
    "- 'CASH': favourite by 524 tenants"
   ]
  },
  {
   "cell_type": "code",
   "execution_count": 43,
   "metadata": {},
   "outputs": [
    {
     "name": "stdout",
     "output_type": "stream",
     "text": [
      "tenants using 1 payng method: 9607\n",
      "tenants using 2 payng method: 344\n",
      "tenants more than 2 payng method: 0\n"
     ]
    },
    {
     "data": {
      "text/plain": [
       "Counter({'BANK_TRANSFER': 1512, 'DIRECT_DEBIT': 7915, 'CASH': 524})"
      ]
     },
     "execution_count": 43,
     "metadata": {},
     "output_type": "execute_result"
    }
   ],
   "source": [
    "type_tran=transactions.groupby('tenant_id')['payment_method'].nunique()\n",
    "print('tenants using 1 payng method:',sum(type_tran==1))\n",
    "print('tenants using 2 payng method:',sum(type_tran==2))\n",
    "print('tenants more than 2 payng method:',sum(type_tran>2))\n",
    "Counter(transactions.groupby('tenant_id')['payment_method'].agg(lambda x:x.value_counts().index[0]))"
   ]
  },
  {
   "cell_type": "markdown",
   "metadata": {},
   "source": [
    "\n",
    "All the deposits avaliable (for contracts with a starting date within the dataset range) have a ratio of 3 with respect to the rent. We could Assume that the contracts that started before the avaliable dates also have a deposit 3 times the rent, and compare the retunrs given at the end of the contract for confirmation (in the case of no eviction, we will discuss this later below). There are 6298 contracts with a starting date within our data range (56% of all contracts)."
   ]
  },
  {
   "cell_type": "code",
   "execution_count": 44,
   "metadata": {},
   "outputs": [
    {
     "name": "stdout",
     "output_type": "stream",
     "text": [
      "Counter({3.0: 6298, 1.0: 6298})\n",
      "contracts with starting date within our data range: 6298 (56%)\n"
     ]
    }
   ],
   "source": [
    "temp=contracts[contracts['contract_start']>=first_date][['contract_id','contract_start','rent','tenant_id']]\n",
    "temp_2=transactions[['contract_id','tenant_id','Payment_date','Amount']]\n",
    "temp_fin=temp.merge(temp_2,left_on=['contract_id','contract_start'],\n",
    "           right_on=['contract_id','Payment_date'],\n",
    "           how='inner')\n",
    "# transactions at the starting date are always the first month of rent and the deposit (3 times rent)\n",
    "print(Counter(temp_fin['Amount']/temp_fin['rent']))\n",
    "print('contracts with starting date within our data range:',len(temp),\n",
    "      ('({}%)'.format(int(100*len(temp)/len(contracts)))))"
   ]
  },
  {
   "cell_type": "markdown",
   "metadata": {},
   "source": [
    "\n",
    "\n",
    "There is two kinds of evictions\n",
    "- case 1: the tenant do not pay rent for 2 months. As a consequence the landlord keeps the deposit and close the contract\n",
    "- case 2: the tenant pays the month with a large delay (>30 days) paying a fee. The landlord closed the contract and return the deposit minus one_rent for the last month.\n",
    "\n",
    "The two cases can be found in the dataframe by usuing the folloing:\n",
    "- case 1: contains 2 NaN values in the Amount column and a transaction with Amount euqal to 0. Also the Payment_date column contains a NaN date.\n",
    "- case 2: Contains 1 NaN in Amount column and the returned deposit is less than the total deposit\n",
    "\n",
    "There is 201 cases of type_1 eviction and 114 cases of type_2 eviction for a total of 315 (2%) evictions in the dataframe. There are also 4 cases of type_1 eviction that are to be completed.\n",
    "Additionally is to important to notice:\n",
    "-  the dataframe contains only 808 (7%) contracts that are open and closed between the window of dates present in this database. \n",
    "- There are also 2150 (19%) contracts that are closed within the date range of the database."
   ]
  },
  {
   "cell_type": "code",
   "execution_count": 45,
   "metadata": {},
   "outputs": [
    {
     "name": "stdout",
     "output_type": "stream",
     "text": [
      "type_1_eviction: 201\n",
      "type_2_eviction: 114\n"
     ]
    }
   ],
   "source": [
    "# SLOW CELL\n",
    "# types of evictions\n",
    "selected_con=contracts['contract_id']\n",
    "count_1=0\n",
    "count_2=0\n",
    "eviction_map=dict()\n",
    "for con in selected_con:\n",
    "    temp=get_history(con)\n",
    "    if (sum(temp['Payment_date'].isna())==1):\n",
    "        count_1+=1\n",
    "        eviction_map[con]=\"Type_1\"\n",
    "    elif (sum(temp['Amount'].isna())==1):\n",
    "        count_2+=1\n",
    "        eviction_map[con]=\"Type_2\"\n",
    "print('type_1_eviction:',count_1)\n",
    "print('type_2_eviction:',count_2)"
   ]
  },
  {
   "cell_type": "code",
   "execution_count": 46,
   "metadata": {},
   "outputs": [
    {
     "name": "stdout",
     "output_type": "stream",
     "text": [
      "Opend and Closed contracts: 808\n",
      "Opend and Closed contracts: 2150\n"
     ]
    }
   ],
   "source": [
    "# Opend and Closed contracts\n",
    "closed_open_c=contracts[(~contracts['contract_end'].isna())&\n",
    "                      (contracts['contract_start']>=first_date)]['contract_id']\n",
    "print('Opend and Closed contracts:',len(closed_open_c))\n",
    "# Closed contracts\n",
    "closed_c=contracts[(~contracts['contract_end'].isna())]['contract_id']\n",
    "print('Opend and Closed contracts:',len(closed_c))"
   ]
  },
  {
   "cell_type": "markdown",
   "metadata": {},
   "source": [
    "## Labeling data\n",
    "\n",
    "As we noticed, there are few clear cases of eviction, and surelly these can be considered as a negative\n",
    "tenant behaviour. I am going to add a label to each contract in the dataset that shows if a contract was closed negativly or not. \n",
    "\n",
    "In the previous cells I created a simple map that now we use to add this column to the contract dataframe. Thanks to this we can already check that we only have tenants that have been evicted once, not more.\n",
    "\n",
    "Finally, I save the dataframe to csv, this will be used in the next notebook for training."
   ]
  },
  {
   "cell_type": "code",
   "execution_count": 12,
   "metadata": {},
   "outputs": [],
   "source": [
    "contracts['eviction']=contracts['contract_id'].map(eviction_map)"
   ]
  },
  {
   "cell_type": "code",
   "execution_count": 13,
   "metadata": {},
   "outputs": [
    {
     "name": "stdout",
     "output_type": "stream",
     "text": [
      "Number of tenants evicted 1 time: 315\n",
      "Number of tenants evicted >1 time: 0\n"
     ]
    }
   ],
   "source": [
    "print('Number of tenants evicted 1 time:',\n",
    "      sum(contracts[~contracts['eviction'].isna()].groupby('tenant_id').count()['eviction']==1))\n",
    "print('Number of tenants evicted >1 time:',\n",
    "      sum(contracts[~contracts['eviction'].isna()].groupby('tenant_id').count()['eviction']>1))"
   ]
  },
  {
   "cell_type": "code",
   "execution_count": 14,
   "metadata": {},
   "outputs": [
    {
     "data": {
      "text/html": [
       "<div>\n",
       "<style scoped>\n",
       "    .dataframe tbody tr th:only-of-type {\n",
       "        vertical-align: middle;\n",
       "    }\n",
       "\n",
       "    .dataframe tbody tr th {\n",
       "        vertical-align: top;\n",
       "    }\n",
       "\n",
       "    .dataframe thead th {\n",
       "        text-align: right;\n",
       "    }\n",
       "</style>\n",
       "<table border=\"1\" class=\"dataframe\">\n",
       "  <thead>\n",
       "    <tr style=\"text-align: right;\">\n",
       "      <th></th>\n",
       "      <th>contract_id</th>\n",
       "      <th>name</th>\n",
       "      <th>surname</th>\n",
       "      <th>dob</th>\n",
       "      <th>postcode</th>\n",
       "      <th>rent</th>\n",
       "      <th>contract_start</th>\n",
       "      <th>contract_end</th>\n",
       "      <th>tenant_id</th>\n",
       "      <th>eviction</th>\n",
       "    </tr>\n",
       "  </thead>\n",
       "  <tbody>\n",
       "    <tr>\n",
       "      <th>0</th>\n",
       "      <td>1465348858</td>\n",
       "      <td>Charlie</td>\n",
       "      <td>Jones</td>\n",
       "      <td>1980-02-29</td>\n",
       "      <td>W13 9DF</td>\n",
       "      <td>2180.0</td>\n",
       "      <td>2016-06-08</td>\n",
       "      <td>NaT</td>\n",
       "      <td>CharlieJones1980-02-29</td>\n",
       "      <td>NaN</td>\n",
       "    </tr>\n",
       "    <tr>\n",
       "      <th>1</th>\n",
       "      <td>1512527932</td>\n",
       "      <td>Megan</td>\n",
       "      <td>Harding</td>\n",
       "      <td>1980-01-01</td>\n",
       "      <td>EC1V0LA</td>\n",
       "      <td>3140.0</td>\n",
       "      <td>2017-12-06</td>\n",
       "      <td>NaT</td>\n",
       "      <td>MeganHarding1980-01-01</td>\n",
       "      <td>NaN</td>\n",
       "    </tr>\n",
       "    <tr>\n",
       "      <th>2</th>\n",
       "      <td>1364692954</td>\n",
       "      <td>Laura</td>\n",
       "      <td>Baker</td>\n",
       "      <td>1989-10-14</td>\n",
       "      <td>TW3 1TS</td>\n",
       "      <td>940.0</td>\n",
       "      <td>2013-03-31</td>\n",
       "      <td>NaT</td>\n",
       "      <td>LauraBaker1989-10-14</td>\n",
       "      <td>NaN</td>\n",
       "    </tr>\n",
       "    <tr>\n",
       "      <th>3</th>\n",
       "      <td>1359165099</td>\n",
       "      <td>Adam</td>\n",
       "      <td>Richardson</td>\n",
       "      <td>1992-12-07</td>\n",
       "      <td>SE1 8YD</td>\n",
       "      <td>2240.0</td>\n",
       "      <td>2013-01-26</td>\n",
       "      <td>2015-04-25</td>\n",
       "      <td>AdamRichardson1992-12-07</td>\n",
       "      <td>NaN</td>\n",
       "    </tr>\n",
       "    <tr>\n",
       "      <th>4</th>\n",
       "      <td>1430526767</td>\n",
       "      <td>Mussammed</td>\n",
       "      <td>Carr</td>\n",
       "      <td>1978-06-03</td>\n",
       "      <td>SW159EL</td>\n",
       "      <td>2320.0</td>\n",
       "      <td>2015-05-02</td>\n",
       "      <td>NaT</td>\n",
       "      <td>MussammedCarr1978-06-03</td>\n",
       "      <td>NaN</td>\n",
       "    </tr>\n",
       "  </tbody>\n",
       "</table>\n",
       "</div>"
      ],
      "text/plain": [
       "   contract_id       name     surname         dob postcode    rent  \\\n",
       "0   1465348858    Charlie       Jones  1980-02-29  W13 9DF  2180.0   \n",
       "1   1512527932      Megan     Harding  1980-01-01  EC1V0LA  3140.0   \n",
       "2   1364692954      Laura       Baker  1989-10-14  TW3 1TS   940.0   \n",
       "3   1359165099       Adam  Richardson  1992-12-07  SE1 8YD  2240.0   \n",
       "4   1430526767  Mussammed        Carr  1978-06-03  SW159EL  2320.0   \n",
       "\n",
       "  contract_start contract_end                 tenant_id eviction  \n",
       "0     2016-06-08          NaT    CharlieJones1980-02-29      NaN  \n",
       "1     2017-12-06          NaT    MeganHarding1980-01-01      NaN  \n",
       "2     2013-03-31          NaT      LauraBaker1989-10-14      NaN  \n",
       "3     2013-01-26   2015-04-25  AdamRichardson1992-12-07      NaN  \n",
       "4     2015-05-02          NaT   MussammedCarr1978-06-03      NaN  "
      ]
     },
     "execution_count": 14,
     "metadata": {},
     "output_type": "execute_result"
    }
   ],
   "source": [
    "contracts.head()"
   ]
  },
  {
   "cell_type": "code",
   "execution_count": 15,
   "metadata": {},
   "outputs": [],
   "source": [
    "contracts.to_csv('contracts_updated.csv',index=False)"
   ]
  },
  {
   "cell_type": "markdown",
   "metadata": {},
   "source": [
    "# Transaction DataFrame\n",
    "\n",
    "Here I calculated the delay of payment and the due dates for each contract. Some manipulation is needed as we need to consider the double payment at the start of the contract (rent+deposit).\n",
    "\n",
    "Also this updated dataframe is saved for future use in the training notebook"
   ]
  },
  {
   "cell_type": "code",
   "execution_count": 36,
   "metadata": {},
   "outputs": [
    {
     "name": "stdout",
     "output_type": "stream",
     "text": [
      "Needed time to run this cell: 437.33953881263733\n"
     ]
    }
   ],
   "source": [
    "#SLOW CELL (Needed time to run this cell: 437 sec)\n",
    "\n",
    "def my_fun():\n",
    "    start=time.time()\n",
    "    transactions_update=pd.DataFrame()\n",
    "    \n",
    "    for tenant in unique_tenants:\n",
    "        #print(tenant)\n",
    "        cons=get_contracts(tenant)\n",
    "        history=pd.DataFrame()\n",
    "        for con in cons['contract_id']:\n",
    "            #print(con)\n",
    "            temp_history=get_history(con)\n",
    "            cinfo=get_cinfo(con)\n",
    "            due_dates=[add_months(cinfo['contract_start'][0],j) for j in range(300)]\n",
    "            due_dates=[d for d in due_dates if (pd.to_datetime(d)<=last_date) \\\n",
    "                 and (pd.to_datetime(d)<=pd.to_datetime(cinfo['contract_end'].fillna(last_date)[0]))\\\n",
    "                and (pd.to_datetime(temp_history['Payment_date'][0]).date()-d<=pd.Timedelta(20,'D'))]\n",
    "            if pd.to_datetime(cinfo['contract_start'][0])>=first_date:\n",
    "                due_dates=[due_dates[0]]+list(due_dates)\n",
    "            if pd.to_datetime(cinfo['contract_end'].fillna(last_date)[0])<=last_date:\n",
    "                due_dates=due_dates+[add_months(due_dates[-1],1)]\n",
    "            #print(len(due_dates))\n",
    "            #print(len(history))\n",
    "            miss_dates=len(due_dates)-len(temp_history)\n",
    "            delay=[]\n",
    "            if len(due_dates)<len(temp_history):\n",
    "                print(due_dates)\n",
    "                display(temp_history)\n",
    "            for j in range(len(temp_history)):\n",
    "                delay.append(pd.to_datetime(temp_history['Payment_date'][j]).date()-due_dates[j])\n",
    "            try:\n",
    "                temp_history['due_date']=due_dates\n",
    "            except:\n",
    "                temp_history['due_date']=due_dates[:-miss_dates]\n",
    "\n",
    "            temp_history['delay']=delay\n",
    "            history=pd.concat([history,temp_history])\n",
    "        transactions_update=pd.concat([transactions_update,history.reset_index()\\\n",
    "        .rename(columns={'index':'index_history_contract'})])\n",
    "\n",
    "    transactions_update=transactions_update.reset_index().rename(columns={'index':'index_history_tenant'})\n",
    "\n",
    "    end=time.time()\n",
    "    print('Needed time to run this cell:',end-start)\n",
    "    \n",
    "    return transactions_update\n",
    "\n",
    "transactions_update=my_fun()"
   ]
  },
  {
   "cell_type": "code",
   "execution_count": 37,
   "metadata": {},
   "outputs": [
    {
     "data": {
      "text/plain": [
       "268853"
      ]
     },
     "execution_count": 37,
     "metadata": {},
     "output_type": "execute_result"
    }
   ],
   "source": [
    "len(transactions_update)"
   ]
  },
  {
   "cell_type": "code",
   "execution_count": 38,
   "metadata": {},
   "outputs": [],
   "source": [
    "transactions_update.to_csv('transactions_updated.csv',index=False)"
   ]
  }
 ],
 "metadata": {
  "kernelspec": {
   "display_name": "Python 3",
   "language": "python",
   "name": "python3"
  },
  "language_info": {
   "codemirror_mode": {
    "name": "ipython",
    "version": 3
   },
   "file_extension": ".py",
   "mimetype": "text/x-python",
   "name": "python",
   "nbconvert_exporter": "python",
   "pygments_lexer": "ipython3",
   "version": "3.6.5"
  }
 },
 "nbformat": 4,
 "nbformat_minor": 2
}
